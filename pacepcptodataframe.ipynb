{
 "cells": [
  {
   "cell_type": "markdown",
   "metadata": {},
   "source": [
    "# ENSO Extratropical Prediction Project"
   ]
  },
  {
   "cell_type": "markdown",
   "metadata": {},
   "source": [
    "## Problem Description\n",
    "The scientific goal of this project is to investigate the impact of the extratropics on ENSO predictability and prediction at 1-year lead times. Previous work of mine (add references) as well as many others (add references), have demontrated a link between the extratropics and ENSO development. Many features (predictors) have been identified and they are highly correlated with each other.  Can we identify a better feature or set of features by learning from all of the data rather than a priori choosing features? Can we use this to help us understand the physical and dynamical processes by which the extratropics impact development of ENSO?"
   ]
  },
  {
   "cell_type": "markdown",
   "metadata": {},
   "source": [
    "### What do we want to predict?\n",
    "\n",
    "We want to predict Eastern Pacific or Central Pacific ENSO Events in Dec-Jan-Feb (DJF1) from the previous Dec-Jan-Feb (DJF0).  This is defined by indices, referred to as CP for Central Pacific or EP for Eastern Pacific. \n",
    "\n",
    "As a regression problem, we would just predict the value of the CP or EP Index in DJF1\n",
    "\n",
    "As a classification problem, we would define the predictand as:\n",
    "If the index is >=0.5 for DJF1, then we have a CP or EP El Nino (warm event)\n",
    "If the index is <=-0.5 for DJF1, then we have a CP or EP La Nina (cold event)\n",
    "\n",
    "For the purposes of this notebook, will write out the value of the CP or EP index to allow for flexibility in how we want to formulate the problem."
   ]
  },
  {
   "cell_type": "markdown",
   "metadata": {},
   "source": [
    "### How will we predict it?\n",
    "\n",
    "Features (predictors)\n",
    ":The features for this problem are detrended anomalies of Sea Surface Temperature (SST), sea level pressure (SLP), zonal wind stress (TAUX), zonal wind at 10m (UWND), and meridional wind at 10m (VWND) from observations based datasets at every gridpoint in the Pacific region (65S-85N ;100E-70W). SST and TAUX fields are defined only over the ocean with land points set as np.nan (they output as empty cells in .csv).  SLP, UWND, and VWND are defined over the entire domain (land and ocean).  The correlation with the CP and EP ENSO indices has been removed via linear regression.The features have not been normalized and will likely need to be because the have different scales and variance.\n",
    "\n",
    "Predictand\n",
    ": Normalized values of the CP and EP ENSO indices.  These values were calculated originally from SST data , so their original units are deg C, but they have been normalized so are unitless.  Details of how these indices are calculated are described in https://agupubs.onlinelibrary.wiley.com/doi/full/10.1002/2014GL059997"
   ]
  },
  {
   "cell_type": "markdown",
   "metadata": {},
   "source": [
    "### Dataset Reference\n",
    "1. SST is from NOAA/ERSSTv3b (1x1) 181x89 (deg C)\n",
    "2. SLP from NCEP Reanalysis 1 (2.5x2.5) 73x144 (hPa)  Note: 1Pa = 1$Nm{-2}$\n",
    "3. TAUX from NCEP Reanalysis 1 Gaussian Grid 94x192 ($Nm^{-2}$)\n",
    "4. UWND from NCEP Reanalysis 1 Gaussian Grid 94x192 ($ms^{-1}$)\n",
    "5. VWND from NCEP Reanalysis 1 Gaussian Grid 94x192 ($ms^{-1}$)\n",
    "\n",
    "All data are interpolated to the 2.5x2.5 deg grid"
   ]
  },
  {
   "cell_type": "markdown",
   "metadata": {},
   "source": [
    "## This notebook will:\n",
    "1. read in the features and predictands from netcdf as monthly data\n",
    "2. Extract the Pacific from the features datasets\n",
    "3. Calculate and extract the DJF0 seasonal averages for the features and the DJF1 seasonal averages from the predictand\n",
    "4. convert the data to a Pandas DataFrame\n",
    "5.  write out as a .csv file"
   ]
  },
  {
   "cell_type": "code",
   "execution_count": 1,
   "metadata": {},
   "outputs": [],
   "source": [
    "import xarray as xr\n",
    "import numpy as np\n",
    "import pandas as pd\n",
    "import xesmf as xe\n",
    "import matplotlib.pyplot as plt"
   ]
  },
  {
   "cell_type": "markdown",
   "metadata": {},
   "source": [
    "Set Path for input and output"
   ]
  },
  {
   "cell_type": "code",
   "execution_count": 2,
   "metadata": {},
   "outputs": [],
   "source": [
    "path='data/'"
   ]
  },
  {
   "cell_type": "markdown",
   "metadata": {},
   "source": [
    "Read in the file that has the common grid we will interpolate other fields to"
   ]
  },
  {
   "cell_type": "code",
   "execution_count": 3,
   "metadata": {},
   "outputs": [],
   "source": [
    "gridFile='NCEPR1.slp.anom.detrend.SEAS.globalreg.1948-2014.nc'\n",
    "ds_grid=xr.open_dataset(path+gridFile, decode_times=False)\n",
    "ds_out = xr.Dataset({'lat': ds_grid['lat'],\n",
    "                     'lon': ds_grid['lon'],})"
   ]
  },
  {
   "cell_type": "markdown",
   "metadata": {},
   "source": [
    "Define a list of the variables "
   ]
  },
  {
   "cell_type": "code",
   "execution_count": 4,
   "metadata": {},
   "outputs": [],
   "source": [
    "varnames=['slp','uflx','uwnd','vwnd','sst']"
   ]
  },
  {
   "cell_type": "markdown",
   "metadata": {},
   "source": [
    "Setup filenames for the input data"
   ]
  },
  {
   "cell_type": "code",
   "execution_count": 5,
   "metadata": {},
   "outputs": [],
   "source": [
    "fnames=['NCEPR1.slp.anom.detrend.SEAS.globalreg.1948-2014.nc',\n",
    "        'NCEPR1.uflx.anom.detrend.SEAS.globalreg.1948-2014.nc',\n",
    "        'NCEPR1.uwnd.anom.detrend.SEAS.globalreg.1948-2014.nc',\n",
    "        'NCEPR1.vwnd.anom.detrend.SEAS.globalreg.1948-2014.nc',\n",
    "        'ERSST.sst.anom.detrend.SEAS.globalreg.1948-2014.nc']"
   ]
  },
  {
   "cell_type": "markdown",
   "metadata": {},
   "source": [
    "Read in the data files for the predictors (features), interpolate to common grid, create a list of xarray.Datasets"
   ]
  },
  {
   "cell_type": "code",
   "execution_count": 6,
   "metadata": {},
   "outputs": [
    {
     "name": "stdout",
     "output_type": "stream",
     "text": [
      "Create weight file: bilinear_73x144_73x144.nc\n",
      "using dimensions ('lat', 'lon') from data variable slp as the horizontal dimensions for this dataset.\n",
      "Remove file bilinear_73x144_73x144.nc\n",
      "Create weight file: bilinear_94x192_73x144.nc\n",
      "using dimensions ('lat', 'lon') from data variable uflx as the horizontal dimensions for this dataset.\n",
      "Remove file bilinear_94x192_73x144.nc\n",
      "Create weight file: bilinear_94x192_73x144.nc\n",
      "using dimensions ('lat', 'lon') from data variable uwnd as the horizontal dimensions for this dataset.\n",
      "Remove file bilinear_94x192_73x144.nc\n",
      "Create weight file: bilinear_94x192_73x144.nc\n",
      "using dimensions ('lat', 'lon') from data variable vwnd as the horizontal dimensions for this dataset.\n",
      "Remove file bilinear_94x192_73x144.nc\n",
      "Create weight file: bilinear_89x181_73x144.nc\n",
      "using dimensions ('lat', 'lon') from data variable sst as the horizontal dimensions for this dataset.\n",
      "Remove file bilinear_89x181_73x144.nc\n"
     ]
    }
   ],
   "source": [
    "# Create empty list for storing xarray.Datasets\n",
    "ds_list=[]\n",
    "\n",
    "# Loop over all the variables and files\n",
    "for f,v in zip(fnames,varnames):\n",
    "\n",
    "    # Read in the data\n",
    "    dsF=xr.open_dataset(path+f, decode_times=False)\n",
    "    \n",
    "    # Rename the DataArray to the variable name\n",
    "    dsF=dsF.rename({'DJF':v})\n",
    "    \n",
    "    # Regrid the data to the common grid\n",
    "    regridder = xe.Regridder(dsF, ds_out, 'bilinear')\n",
    "    ds_out = regridder(dsF)  \n",
    "    \n",
    "    # Set land missing values to NaN for SST\n",
    "    if (v=='sst'):\n",
    "        ds_out=ds_out.where(ds_out['sst']<9999,np.nan)\n",
    "    \n",
    "    # Append this xarray.Dataset to the list\n",
    "    ds_list.append(ds_out[v])\n",
    "\n",
    "    # Clean up regridding weight file\n",
    "    regridder.clean_weight_file() "
   ]
  },
  {
   "cell_type": "markdown",
   "metadata": {},
   "source": [
    "File for the predictands"
   ]
  },
  {
   "cell_type": "code",
   "execution_count": 7,
   "metadata": {},
   "outputs": [],
   "source": [
    "fnamecp='cp.pc.ERSST.SEAS.nc'\n",
    "fnameep='ep.pc.ERSST.SEAS.nc'"
   ]
  },
  {
   "cell_type": "markdown",
   "metadata": {},
   "source": [
    "Read in the predictands and append to the xarray.Dataset list"
   ]
  },
  {
   "cell_type": "code",
   "execution_count": 8,
   "metadata": {},
   "outputs": [],
   "source": [
    "ds_cp=xr.open_dataset(path+fnamecp, decode_times=False).squeeze()\n",
    "ds_ep=xr.open_dataset(path+fnameep, decode_times=False).squeeze()\n",
    "\n",
    "ds_cp=ds_cp.rename({'djf1':'cp'})\n",
    "ds_ep=ds_ep.rename({'djf1':'ep'})\n",
    "\n",
    "ds_list.append(ds_cp['cp'])\n",
    "ds_list.append(ds_ep['ep'])"
   ]
  },
  {
   "cell_type": "markdown",
   "metadata": {},
   "source": [
    "Combine all the xarray.Dataset variables into a single xarray.Dataset and assign the date/times properly"
   ]
  },
  {
   "cell_type": "code",
   "execution_count": 9,
   "metadata": {},
   "outputs": [
    {
     "data": {
      "text/html": [
       "<pre>&lt;xarray.Dataset&gt;\n",
       "Dimensions:  (lat: 73, lon: 144, time: 67)\n",
       "Coordinates:\n",
       "  * time     (time) float64 0.0 12.0 24.0 36.0 48.0 ... 756.0 768.0 780.0 792.0\n",
       "  * lon      (lon) float64 0.0 2.5 5.0 7.5 10.0 ... 350.0 352.5 355.0 357.5\n",
       "  * lat      (lat) float64 -90.0 -87.5 -85.0 -82.5 -80.0 ... 82.5 85.0 87.5 90.0\n",
       "Data variables:\n",
       "    slp      (time, lat, lon) float64 -4.798 -4.798 -4.798 ... 0.7842 0.7842\n",
       "    uflx     (time, lat, lon) float64 0.0 0.0 0.0 0.0 0.0 ... 0.0 0.0 0.0 0.0\n",
       "    uwnd     (time, lat, lon) float64 0.0 0.0 0.0 0.0 0.0 ... 0.0 0.0 0.0 0.0\n",
       "    vwnd     (time, lat, lon) float64 0.0 0.0 0.0 0.0 0.0 ... 0.0 0.0 0.0 0.0\n",
       "    sst      (time, lat, lon) float64 0.0 0.0 0.0 0.0 0.0 ... 0.0 0.0 0.0 0.0\n",
       "    cp       (time) float64 ...\n",
       "    ep       (time) float64 ...</pre>"
      ],
      "text/plain": [
       "<xarray.Dataset>\n",
       "Dimensions:  (lat: 73, lon: 144, time: 67)\n",
       "Coordinates:\n",
       "  * time     (time) float64 0.0 12.0 24.0 36.0 48.0 ... 756.0 768.0 780.0 792.0\n",
       "  * lon      (lon) float64 0.0 2.5 5.0 7.5 10.0 ... 350.0 352.5 355.0 357.5\n",
       "  * lat      (lat) float64 -90.0 -87.5 -85.0 -82.5 -80.0 ... 82.5 85.0 87.5 90.0\n",
       "Data variables:\n",
       "    slp      (time, lat, lon) float64 -4.798 -4.798 -4.798 ... 0.7842 0.7842\n",
       "    uflx     (time, lat, lon) float64 0.0 0.0 0.0 0.0 0.0 ... 0.0 0.0 0.0 0.0\n",
       "    uwnd     (time, lat, lon) float64 0.0 0.0 0.0 0.0 0.0 ... 0.0 0.0 0.0 0.0\n",
       "    vwnd     (time, lat, lon) float64 0.0 0.0 0.0 0.0 0.0 ... 0.0 0.0 0.0 0.0\n",
       "    sst      (time, lat, lon) float64 0.0 0.0 0.0 0.0 0.0 ... 0.0 0.0 0.0 0.0\n",
       "    cp       (time) float64 ...\n",
       "    ep       (time) float64 ..."
      ]
     },
     "execution_count": 9,
     "metadata": {},
     "output_type": "execute_result"
    }
   ],
   "source": [
    "ds=xr.merge(ds_list)   \n",
    "ds"
   ]
  },
  {
   "cell_type": "markdown",
   "metadata": {},
   "source": [
    "Extract the Pacific Ocean region from 65S to 85N and 100E to 70W"
   ]
  },
  {
   "cell_type": "code",
   "execution_count": 10,
   "metadata": {},
   "outputs": [
    {
     "data": {
      "text/html": [
       "<pre>&lt;xarray.Dataset&gt;\n",
       "Dimensions:  (lat: 61, lon: 77, time: 67)\n",
       "Coordinates:\n",
       "  * time     (time) float64 0.0 12.0 24.0 36.0 48.0 ... 756.0 768.0 780.0 792.0\n",
       "  * lon      (lon) float64 100.0 102.5 105.0 107.5 ... 282.5 285.0 287.5 290.0\n",
       "  * lat      (lat) float64 -65.0 -62.5 -60.0 -57.5 -55.0 ... 77.5 80.0 82.5 85.0\n",
       "Data variables:\n",
       "    slp      (time, lat, lon) float64 -0.1153 -0.05944 ... -1.04 -1.077\n",
       "    uflx     (time, lat, lon) float64 0.04817 0.05325 ... 0.004714 0.004549\n",
       "    uwnd     (time, lat, lon) float64 -2.204 -2.158 -2.148 ... -0.04894 -0.05836\n",
       "    vwnd     (time, lat, lon) float64 0.2712 0.2623 0.1809 ... -0.3727 -0.3475\n",
       "    sst      (time, lat, lon) float64 nan nan nan ... -3.785e-06 -4.544e-05\n",
       "    cp       (time) float64 ...\n",
       "    ep       (time) float64 ...</pre>"
      ],
      "text/plain": [
       "<xarray.Dataset>\n",
       "Dimensions:  (lat: 61, lon: 77, time: 67)\n",
       "Coordinates:\n",
       "  * time     (time) float64 0.0 12.0 24.0 36.0 48.0 ... 756.0 768.0 780.0 792.0\n",
       "  * lon      (lon) float64 100.0 102.5 105.0 107.5 ... 282.5 285.0 287.5 290.0\n",
       "  * lat      (lat) float64 -65.0 -62.5 -60.0 -57.5 -55.0 ... 77.5 80.0 82.5 85.0\n",
       "Data variables:\n",
       "    slp      (time, lat, lon) float64 -0.1153 -0.05944 ... -1.04 -1.077\n",
       "    uflx     (time, lat, lon) float64 0.04817 0.05325 ... 0.004714 0.004549\n",
       "    uwnd     (time, lat, lon) float64 -2.204 -2.158 -2.148 ... -0.04894 -0.05836\n",
       "    vwnd     (time, lat, lon) float64 0.2712 0.2623 0.1809 ... -0.3727 -0.3475\n",
       "    sst      (time, lat, lon) float64 nan nan nan ... -3.785e-06 -4.544e-05\n",
       "    cp       (time) float64 ...\n",
       "    ep       (time) float64 ..."
      ]
     },
     "execution_count": 10,
     "metadata": {},
     "output_type": "execute_result"
    }
   ],
   "source": [
    "ds_pac=ds.sel(lat=slice(-65,85),lon=slice(100,290))\n",
    "ds_pac"
   ]
  },
  {
   "cell_type": "markdown",
   "metadata": {},
   "source": [
    "Quick check plot"
   ]
  },
  {
   "cell_type": "code",
   "execution_count": 11,
   "metadata": {},
   "outputs": [
    {
     "data": {
      "text/plain": [
       "<matplotlib.colorbar.Colorbar at 0x7f793caa4908>"
      ]
     },
     "execution_count": 11,
     "metadata": {},
     "output_type": "execute_result"
    },
    {
     "data": {
      "image/png": "[encoded data removed]",
      "text/plain": [
       "<Figure size 432x288 with 2 Axes>"
      ]
     },
     "metadata": {
      "needs_background": "light"
     },
     "output_type": "display_data"
    }
   ],
   "source": [
    "plt.contourf(ds_pac['sst'][0,:,:])\n",
    "plt.colorbar()"
   ]
  },
  {
   "cell_type": "markdown",
   "metadata": {},
   "source": [
    "Add in date/time information"
   ]
  },
  {
   "cell_type": "code",
   "execution_count": 23,
   "metadata": {},
   "outputs": [
    {
     "data": {
      "text/plain": [
       "DatetimeIndex(['1949-01-01', '1950-01-01', '1951-01-01', '1952-01-01',\n",
       "               '1953-01-01', '1954-01-01', '1955-01-01', '1956-01-01',\n",
       "               '1957-01-01', '1958-01-01', '1959-01-01', '1960-01-01',\n",
       "               '1961-01-01', '1962-01-01', '1963-01-01', '1964-01-01',\n",
       "               '1965-01-01', '1966-01-01', '1967-01-01', '1968-01-01',\n",
       "               '1969-01-01', '1970-01-01', '1971-01-01', '1972-01-01',\n",
       "               '1973-01-01', '1974-01-01', '1975-01-01', '1976-01-01',\n",
       "               '1977-01-01', '1978-01-01', '1979-01-01', '1980-01-01',\n",
       "               '1981-01-01', '1982-01-01', '1983-01-01', '1984-01-01',\n",
       "               '1985-01-01', '1986-01-01', '1987-01-01', '1988-01-01',\n",
       "               '1989-01-01', '1990-01-01', '1991-01-01', '1992-01-01',\n",
       "               '1993-01-01', '1994-01-01', '1995-01-01', '1996-01-01',\n",
       "               '1997-01-01', '1998-01-01', '1999-01-01', '2000-01-01',\n",
       "               '2001-01-01', '2002-01-01', '2003-01-01', '2004-01-01',\n",
       "               '2005-01-01', '2006-01-01', '2007-01-01', '2008-01-01',\n",
       "               '2009-01-01', '2010-01-01', '2011-01-01', '2012-01-01',\n",
       "               '2013-01-01', '2014-01-01', '2015-01-01'],\n",
       "              dtype='datetime64[ns]', freq='AS-JAN')"
      ]
     },
     "execution_count": 23,
     "metadata": {},
     "output_type": "execute_result"
    }
   ],
   "source": [
    "times=pd.date_range(start='1949', end='2015', freq=\"AS\")\n",
    "ds_pac['time']=times\n",
    "times"
   ]
  },
  {
   "cell_type": "markdown",
   "metadata": {},
   "source": [
    "Convert to pandas dataframe"
   ]
  },
  {
   "cell_type": "code",
   "execution_count": 20,
   "metadata": {},
   "outputs": [
    {
     "data": {
      "text/html": [
       "<div>\n",
       "<style scoped>\n",
       "    .dataframe tbody tr th:only-of-type {\n",
       "        vertical-align: middle;\n",
       "    }\n",
       "\n",
       "    .dataframe tbody tr th {\n",
       "        vertical-align: top;\n",
       "    }\n",
       "\n",
       "    .dataframe thead th {\n",
       "        text-align: right;\n",
       "    }\n",
       "</style>\n",
       "<table border=\"1\" class=\"dataframe\">\n",
       "  <thead>\n",
       "    <tr style=\"text-align: right;\">\n",
       "      <th></th>\n",
       "      <th></th>\n",
       "      <th></th>\n",
       "      <th>slp</th>\n",
       "      <th>uflx</th>\n",
       "      <th>uwnd</th>\n",
       "      <th>vwnd</th>\n",
       "      <th>sst</th>\n",
       "      <th>cp</th>\n",
       "      <th>ep</th>\n",
       "    </tr>\n",
       "    <tr>\n",
       "      <th>lat</th>\n",
       "      <th>lon</th>\n",
       "      <th>time</th>\n",
       "      <th></th>\n",
       "      <th></th>\n",
       "      <th></th>\n",
       "      <th></th>\n",
       "      <th></th>\n",
       "      <th></th>\n",
       "      <th></th>\n",
       "    </tr>\n",
       "  </thead>\n",
       "  <tbody>\n",
       "    <tr>\n",
       "      <th rowspan=\"5\" valign=\"top\">-65.0</th>\n",
       "      <th rowspan=\"5\" valign=\"top\">100.0</th>\n",
       "      <th>1949-01-01</th>\n",
       "      <td>-0.11530</td>\n",
       "      <td>0.04817</td>\n",
       "      <td>-2.20402</td>\n",
       "      <td>0.27120</td>\n",
       "      <td>NaN</td>\n",
       "      <td>-0.02281</td>\n",
       "      <td>0.16433</td>\n",
       "    </tr>\n",
       "    <tr>\n",
       "      <th>1950-01-01</th>\n",
       "      <td>7.32489</td>\n",
       "      <td>0.02882</td>\n",
       "      <td>-1.57926</td>\n",
       "      <td>0.71625</td>\n",
       "      <td>NaN</td>\n",
       "      <td>-0.87673</td>\n",
       "      <td>-0.91307</td>\n",
       "    </tr>\n",
       "    <tr>\n",
       "      <th>1951-01-01</th>\n",
       "      <td>5.41538</td>\n",
       "      <td>-0.00448</td>\n",
       "      <td>-0.24469</td>\n",
       "      <td>0.17615</td>\n",
       "      <td>NaN</td>\n",
       "      <td>-0.98041</td>\n",
       "      <td>-0.15738</td>\n",
       "    </tr>\n",
       "    <tr>\n",
       "      <th>1952-01-01</th>\n",
       "      <td>-1.95160</td>\n",
       "      <td>-0.03209</td>\n",
       "      <td>1.17377</td>\n",
       "      <td>0.05977</td>\n",
       "      <td>NaN</td>\n",
       "      <td>-0.08687</td>\n",
       "      <td>1.13814</td>\n",
       "    </tr>\n",
       "    <tr>\n",
       "      <th>1953-01-01</th>\n",
       "      <td>2.86104</td>\n",
       "      <td>0.03164</td>\n",
       "      <td>-1.52378</td>\n",
       "      <td>-0.13286</td>\n",
       "      <td>NaN</td>\n",
       "      <td>0.00190</td>\n",
       "      <td>0.58604</td>\n",
       "    </tr>\n",
       "    <tr>\n",
       "      <th>...</th>\n",
       "      <th>...</th>\n",
       "      <th>...</th>\n",
       "      <td>...</td>\n",
       "      <td>...</td>\n",
       "      <td>...</td>\n",
       "      <td>...</td>\n",
       "      <td>...</td>\n",
       "      <td>...</td>\n",
       "      <td>...</td>\n",
       "    </tr>\n",
       "    <tr>\n",
       "      <th rowspan=\"5\" valign=\"top\">85.0</th>\n",
       "      <th rowspan=\"5\" valign=\"top\">290.0</th>\n",
       "      <th>2011-01-01</th>\n",
       "      <td>6.78036</td>\n",
       "      <td>0.02160</td>\n",
       "      <td>-0.67441</td>\n",
       "      <td>0.66685</td>\n",
       "      <td>-0.00004</td>\n",
       "      <td>-2.02178</td>\n",
       "      <td>-0.48754</td>\n",
       "    </tr>\n",
       "    <tr>\n",
       "      <th>2012-01-01</th>\n",
       "      <td>0.46223</td>\n",
       "      <td>0.01232</td>\n",
       "      <td>-0.55325</td>\n",
       "      <td>0.40512</td>\n",
       "      <td>-0.00004</td>\n",
       "      <td>-1.55203</td>\n",
       "      <td>0.06250</td>\n",
       "    </tr>\n",
       "    <tr>\n",
       "      <th>2013-01-01</th>\n",
       "      <td>-4.59476</td>\n",
       "      <td>-0.01653</td>\n",
       "      <td>0.45551</td>\n",
       "      <td>0.20548</td>\n",
       "      <td>-0.00004</td>\n",
       "      <td>-0.26607</td>\n",
       "      <td>-0.75166</td>\n",
       "    </tr>\n",
       "    <tr>\n",
       "      <th>2014-01-01</th>\n",
       "      <td>4.40266</td>\n",
       "      <td>0.05602</td>\n",
       "      <td>-1.26657</td>\n",
       "      <td>-0.84639</td>\n",
       "      <td>-0.00004</td>\n",
       "      <td>-0.24398</td>\n",
       "      <td>-0.74899</td>\n",
       "    </tr>\n",
       "    <tr>\n",
       "      <th>2015-01-01</th>\n",
       "      <td>-1.07749</td>\n",
       "      <td>0.00455</td>\n",
       "      <td>-0.05836</td>\n",
       "      <td>-0.34751</td>\n",
       "      <td>-0.00005</td>\n",
       "      <td>NaN</td>\n",
       "      <td>NaN</td>\n",
       "    </tr>\n",
       "  </tbody>\n",
       "</table>\n",
       "<p>314699 rows × 7 columns</p>\n",
       "</div>"
      ],
      "text/plain": [
       "                            slp     uflx     uwnd     vwnd      sst       cp  \\\n",
       "lat   lon   time                                                               \n",
       "-65.0 100.0 1949-01-01 -0.11530  0.04817 -2.20402  0.27120      NaN -0.02281   \n",
       "            1950-01-01  7.32489  0.02882 -1.57926  0.71625      NaN -0.87673   \n",
       "            1951-01-01  5.41538 -0.00448 -0.24469  0.17615      NaN -0.98041   \n",
       "            1952-01-01 -1.95160 -0.03209  1.17377  0.05977      NaN -0.08687   \n",
       "            1953-01-01  2.86104  0.03164 -1.52378 -0.13286      NaN  0.00190   \n",
       "...                         ...      ...      ...      ...      ...      ...   \n",
       " 85.0 290.0 2011-01-01  6.78036  0.02160 -0.67441  0.66685 -0.00004 -2.02178   \n",
       "            2012-01-01  0.46223  0.01232 -0.55325  0.40512 -0.00004 -1.55203   \n",
       "            2013-01-01 -4.59476 -0.01653  0.45551  0.20548 -0.00004 -0.26607   \n",
       "            2014-01-01  4.40266  0.05602 -1.26657 -0.84639 -0.00004 -0.24398   \n",
       "            2015-01-01 -1.07749  0.00455 -0.05836 -0.34751 -0.00005      NaN   \n",
       "\n",
       "                             ep  \n",
       "lat   lon   time                 \n",
       "-65.0 100.0 1949-01-01  0.16433  \n",
       "            1950-01-01 -0.91307  \n",
       "            1951-01-01 -0.15738  \n",
       "            1952-01-01  1.13814  \n",
       "            1953-01-01  0.58604  \n",
       "...                         ...  \n",
       " 85.0 290.0 2011-01-01 -0.48754  \n",
       "            2012-01-01  0.06250  \n",
       "            2013-01-01 -0.75166  \n",
       "            2014-01-01 -0.74899  \n",
       "            2015-01-01      NaN  \n",
       "\n",
       "[314699 rows x 7 columns]"
      ]
     },
     "execution_count": 20,
     "metadata": {},
     "output_type": "execute_result"
    }
   ],
   "source": [
    "df=ds_pac.to_dataframe().round(5)\n",
    "df"
   ]
  },
  {
   "cell_type": "markdown",
   "metadata": {},
   "source": [
    "Write to csv"
   ]
  },
  {
   "cell_type": "code",
   "execution_count": 22,
   "metadata": {},
   "outputs": [],
   "source": [
    "df.to_csv('pacocnDJFcpepDJF1.csv')"
   ]
  },
  {
   "cell_type": "code",
   "execution_count": null,
   "metadata": {},
   "outputs": [],
   "source": []
  }
 ],
 "metadata": {
  "kernelspec": {
   "display_name": "Python (aoes)",
   "language": "python",
   "name": "aoes"
  },
  "language_info": {
   "codemirror_mode": {
    "name": "ipython",
    "version": 3
   },
   "file_extension": ".py",
   "mimetype": "text/x-python",
   "name": "python",
   "nbconvert_exporter": "python",
   "pygments_lexer": "ipython3",
   "version": "3.6.7"
  }
 },
 "nbformat": 4,
 "nbformat_minor": 4
}
